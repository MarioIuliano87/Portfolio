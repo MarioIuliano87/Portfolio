{
 "cells": [
  {
   "cell_type": "code",
   "execution_count": 7,
   "id": "8efd6738",
   "metadata": {},
   "outputs": [],
   "source": [
    "import pandas as pd\n",
    "import numpy as np\n",
    "\n",
    "np.random.seed(42)\n",
    "\n",
    "# Simulate 100 days\n",
    "n = 100\n",
    "intervention_point = 70\n",
    "\n",
    "# Create features\n",
    "dates = pd.date_range(start=\"2023-01-01\", periods=n)\n",
    "campaign = [0]*intervention_point + [1]*(n - intervention_point)  # campaign starts at day 70\n",
    "baseline_sales = np.random.normal(200, 10, n)\n",
    "sales = baseline_sales + np.array(campaign) * 20  # campaign effect: +20 units\n",
    "\n",
    "# Create DataFrame\n",
    "data = pd.DataFrame({\n",
    "    \"date\": dates,\n",
    "    \"campaign\": campaign,\n",
    "    \"sales\": sales\n",
    "})\n"
   ]
  },
  {
   "cell_type": "code",
   "execution_count": 8,
   "id": "53478aa2",
   "metadata": {},
   "outputs": [
    {
     "name": "stderr",
     "output_type": "stream",
     "text": [
      "/Users/mario.iuliano/marios_env/Portfolio/.env/lib/python3.10/site-packages/tqdm/auto.py:21: TqdmWarning: IProgress not found. Please update jupyter and ipywidgets. See https://ipywidgets.readthedocs.io/en/stable/user_install.html\n",
      "  from .autonotebook import tqdm as notebook_tqdm\n"
     ]
    },
    {
     "name": "stdout",
     "output_type": "stream",
     "text": [
      "Causal Estimate: 21.02885461024721\n"
     ]
    },
    {
     "name": "stderr",
     "output_type": "stream",
     "text": [
      "/Users/mario.iuliano/marios_env/Portfolio/.env/lib/python3.10/site-packages/dowhy/causal_estimators/regression_estimator.py:131: FutureWarning: Series.__getitem__ treating keys as positions is deprecated. In a future version, integer keys will always be treated as labels (consistent with DataFrame behavior). To access a value by position, use `ser.iloc[pos]`\n",
      "  intercept_parameter = self.model.params[0]\n"
     ]
    }
   ],
   "source": [
    "import dowhy\n",
    "from dowhy import CausalModel\n",
    "\n",
    "# Build the causal model\n",
    "model = CausalModel(\n",
    "    data=data,\n",
    "    treatment=\"campaign\",\n",
    "    outcome=\"sales\",\n",
    "    common_causes=[],  # No confounders in this simulated case\n",
    ")\n",
    "\n",
    "# Identify and estimate the causal effect\n",
    "identified_estimand = model.identify_effect()\n",
    "estimate = model.estimate_effect(identified_estimand,\n",
    "                                 method_name=\"backdoor.linear_regression\")\n",
    "\n",
    "print(\"Causal Estimate:\", estimate.value)\n"
   ]
  },
  {
   "cell_type": "code",
   "execution_count": 10,
   "id": "d7292f5d",
   "metadata": {},
   "outputs": [
    {
     "data": {
      "image/png": "[encoded data removed]",
      "text/latex": [
       "$\\displaystyle 21.0288546102472$"
      ],
      "text/plain": [
       "21.02885461024721"
      ]
     },
     "execution_count": 10,
     "metadata": {},
     "output_type": "execute_result"
    }
   ],
   "source": [
    "estimate.value"
   ]
  },
  {
   "cell_type": "code",
   "execution_count": null,
   "id": "ccc5dd4d",
   "metadata": {},
   "outputs": [],
   "source": []
  }
 ],
 "metadata": {
  "kernelspec": {
   "display_name": ".env",
   "language": "python",
   "name": "python3"
  },
  "language_info": {
   "codemirror_mode": {
    "name": "ipython",
    "version": 3
   },
   "file_extension": ".py",
   "mimetype": "text/x-python",
   "name": "python",
   "nbconvert_exporter": "python",
   "pygments_lexer": "ipython3",
   "version": "3.10.0"
  }
 },
 "nbformat": 4,
 "nbformat_minor": 5
}
