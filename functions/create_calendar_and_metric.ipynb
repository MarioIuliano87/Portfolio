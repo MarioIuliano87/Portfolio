{
 "cells": [
  {
   "cell_type": "code",
   "execution_count": 3,
   "id": "0cdc21e2",
   "metadata": {},
   "outputs": [],
   "source": [
    "import pandas as pd\n",
    "import random\n",
    "import matplotlib.pyplot as plt\n",
    "from datetime import date, timedelta"
   ]
  },
  {
   "cell_type": "code",
   "execution_count": 4,
   "id": "7a728454",
   "metadata": {},
   "outputs": [],
   "source": [
    "def cal(len_days, int1=1, int2=20, last_date=date.today()):\n",
    "    \"\"\"Function returns len_days days and a random number assigned to it\n",
    "    len_days: len of the df\n",
    "    int1: minimum integer from which random int will be generated\n",
    "    int2: maximum integer until which random int will be generated\n",
    "    int1 and int2 define the range of integers from which random numbers will\n",
    "    generated\n",
    "    last_date: the date from which len_days days will be created. Defaults to current date\n",
    "    \"\"\"\n",
    "    global df\n",
    "    last_date = pd.to_datetime(last_date, format='%Y-%m-%d')\n",
    "    dates = []\n",
    "    counter = 0\n",
    "    while counter <= len_days:\n",
    "        d = last_date - timedelta(days=counter)\n",
    "        dates.append(d)\n",
    "        counter += 1\n",
    "    dates = [d.strftime('%Y-%m-%d') for d in dates]\n",
    "    metric_a = [random.randint(int1, int2) for x in range(len(dates))]\n",
    "    metric_b = [random.randint(int1, int2) for x in range(len(dates))]\n",
    "    df = pd.DataFrame({'date': dates, \n",
    "                       'metric_a': metric_a,\n",
    "                       'metric_b': metric_b})\n",
    "    return df\n"
   ]
  },
  {
   "cell_type": "code",
   "execution_count": 5,
   "id": "8212de35",
   "metadata": {},
   "outputs": [
    {
     "data": {
      "text/html": [
       "<div>\n",
       "<style scoped>\n",
       "    .dataframe tbody tr th:only-of-type {\n",
       "        vertical-align: middle;\n",
       "    }\n",
       "\n",
       "    .dataframe tbody tr th {\n",
       "        vertical-align: top;\n",
       "    }\n",
       "\n",
       "    .dataframe thead th {\n",
       "        text-align: right;\n",
       "    }\n",
       "</style>\n",
       "<table border=\"1\" class=\"dataframe\">\n",
       "  <thead>\n",
       "    <tr style=\"text-align: right;\">\n",
       "      <th></th>\n",
       "      <th>date</th>\n",
       "      <th>metric_a</th>\n",
       "      <th>metric_b</th>\n",
       "    </tr>\n",
       "  </thead>\n",
       "  <tbody>\n",
       "    <tr>\n",
       "      <th>0</th>\n",
       "      <td>2021-10-05</td>\n",
       "      <td>10</td>\n",
       "      <td>9</td>\n",
       "    </tr>\n",
       "    <tr>\n",
       "      <th>1</th>\n",
       "      <td>2021-10-04</td>\n",
       "      <td>17</td>\n",
       "      <td>16</td>\n",
       "    </tr>\n",
       "    <tr>\n",
       "      <th>2</th>\n",
       "      <td>2021-10-03</td>\n",
       "      <td>2</td>\n",
       "      <td>4</td>\n",
       "    </tr>\n",
       "    <tr>\n",
       "      <th>3</th>\n",
       "      <td>2021-10-02</td>\n",
       "      <td>18</td>\n",
       "      <td>14</td>\n",
       "    </tr>\n",
       "    <tr>\n",
       "      <th>4</th>\n",
       "      <td>2021-10-01</td>\n",
       "      <td>15</td>\n",
       "      <td>10</td>\n",
       "    </tr>\n",
       "    <tr>\n",
       "      <th>5</th>\n",
       "      <td>2021-09-30</td>\n",
       "      <td>3</td>\n",
       "      <td>15</td>\n",
       "    </tr>\n",
       "    <tr>\n",
       "      <th>6</th>\n",
       "      <td>2021-09-29</td>\n",
       "      <td>4</td>\n",
       "      <td>17</td>\n",
       "    </tr>\n",
       "    <tr>\n",
       "      <th>7</th>\n",
       "      <td>2021-09-28</td>\n",
       "      <td>1</td>\n",
       "      <td>2</td>\n",
       "    </tr>\n",
       "    <tr>\n",
       "      <th>8</th>\n",
       "      <td>2021-09-27</td>\n",
       "      <td>18</td>\n",
       "      <td>17</td>\n",
       "    </tr>\n",
       "    <tr>\n",
       "      <th>9</th>\n",
       "      <td>2021-09-26</td>\n",
       "      <td>3</td>\n",
       "      <td>8</td>\n",
       "    </tr>\n",
       "    <tr>\n",
       "      <th>10</th>\n",
       "      <td>2021-09-25</td>\n",
       "      <td>10</td>\n",
       "      <td>3</td>\n",
       "    </tr>\n",
       "  </tbody>\n",
       "</table>\n",
       "</div>"
      ],
      "text/plain": [
       "          date  metric_a  metric_b\n",
       "0   2021-10-05        10         9\n",
       "1   2021-10-04        17        16\n",
       "2   2021-10-03         2         4\n",
       "3   2021-10-02        18        14\n",
       "4   2021-10-01        15        10\n",
       "5   2021-09-30         3        15\n",
       "6   2021-09-29         4        17\n",
       "7   2021-09-28         1         2\n",
       "8   2021-09-27        18        17\n",
       "9   2021-09-26         3         8\n",
       "10  2021-09-25        10         3"
      ]
     },
     "execution_count": 5,
     "metadata": {},
     "output_type": "execute_result"
    }
   ],
   "source": [
    "cal(10)"
   ]
  },
  {
   "cell_type": "code",
   "execution_count": 11,
   "id": "99ef7a62",
   "metadata": {},
   "outputs": [
    {
     "data": {
      "text/plain": [
       "Text(0.5, 0, 'Dates (days)')"
      ]
     },
     "execution_count": 11,
     "metadata": {},
     "output_type": "execute_result"
    },
    {
     "data": {
      "image/png": "[encoded data removed]",
      "text/plain": [
       "<Figure size 432x288 with 2 Axes>"
      ]
     },
     "metadata": {
      "needs_background": "light"
     },
     "output_type": "display_data"
    }
   ],
   "source": [
    "fig, ax = plt.subplots(2,1)\n",
    "ax[0].plot(df.date, df.metric_a, linestyle = '--', marker= 'o', color = 'r')\n",
    "ax[0].set_ylabel('Metric')\n",
    "ax[0].set_title('Metric A Performance')\n",
    "ax[1].plot(df.date, df.metric_b, linestyle = '--', marker = 'o' , color = 'b')\n",
    "ax[1].set_ylabel('Metric')\n",
    "ax[1].set_title('Metric B Performance')\n",
    "ax[1].set_xlabel('Dates (days)')"
   ]
  },
  {
   "cell_type": "code",
   "execution_count": null,
   "id": "375d0b0f",
   "metadata": {},
   "outputs": [],
   "source": []
  }
 ],
 "metadata": {
  "kernelspec": {
   "display_name": "Python 3 (ipykernel)",
   "language": "python",
   "name": "python3"
  },
  "language_info": {
   "codemirror_mode": {
    "name": "ipython",
    "version": 3
   },
   "file_extension": ".py",
   "mimetype": "text/x-python",
   "name": "python",
   "nbconvert_exporter": "python",
   "pygments_lexer": "ipython3",
   "version": "3.9.7"
  }
 },
 "nbformat": 4,
 "nbformat_minor": 5
}
