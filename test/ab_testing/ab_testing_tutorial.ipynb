{
 "cells": [
  {
   "cell_type": "markdown",
   "id": "92822770",
   "metadata": {},
   "source": [
    "Core Concepts:\n",
    "Null Hypothesis (H0): There's no difference between A and B.\n",
    "\n",
    "Alternative Hypothesis (H1): B performs differently (usually better) than A.\n",
    "\n",
    "Statistical test: t-test or non-parametric tests to compare means.\n",
    "\n",
    "Confidence interval: A range in which the true metric difference lies with a certain level of confidence (usually 95%)."
   ]
  },
  {
   "cell_type": "code",
   "execution_count": null,
   "id": "e8f595c8",
   "metadata": {},
   "outputs": [],
   "source": [
    "# Step 1: Simulated Data\n",
    "import numpy as np\n",
    "import matplotlib.pyplot as plt\n",
    "\n",
    "# Simulated CTRs\n",
    "np.random.seed(42)\n",
    "control = np.random.binomial(1, 0.10, 1000)  # 10% CTR\n",
    "treatment = np.random.binomial(1, 0.12, 1000)  # 12% CTR\n"
   ]
  },
  {
   "cell_type": "code",
   "execution_count": null,
   "id": "25fde4f5",
   "metadata": {},
   "outputs": [
    {
     "name": "stdout",
     "output_type": "stream",
     "text": [
      "Observed Difference in CTR: 0.0120\n"
     ]
    }
   ],
   "source": [
    "# Step 2: Observed Difference\n",
    "obs_diff = treatment.mean() - control.mean()\n",
    "print(f\"Observed Difference in CTR: {obs_diff:.4f}\")\n"
   ]
  },
  {
   "cell_type": "code",
   "execution_count": null,
   "id": "6c0eb752",
   "metadata": {},
   "outputs": [],
   "source": [
    "# Step 3: Bootstrapping for Confidence Interval\n",
    "boot_diffs = []\n",
    "for _ in range(10000):\n",
    "    sample_control = np.random.choice(control, size=1000, replace=True)\n",
    "    sample_treatment = np.random.choice(treatment, size=1000, replace=True)\n",
    "    boot_diffs.append(sample_treatment.mean() - sample_control.mean())\n",
    "\n",
    "# 95% Confidence Interval\n",
    "ci_lower = np.percentile(boot_diffs, 2.5)\n",
    "ci_upper = np.percentile(boot_diffs, 97.5)\n"
   ]
  },
  {
   "cell_type": "code",
   "execution_count": 9,
   "id": "b176477c",
   "metadata": {},
   "outputs": [
    {
     "data": {
      "image/png": "[encoded data removed]",
      "text/plain": [
       "<Figure size 640x480 with 1 Axes>"
      ]
     },
     "metadata": {},
     "output_type": "display_data"
    },
    {
     "name": "stdout",
     "output_type": "stream",
     "text": [
      "95% Confidence Interval: [-0.0150, 0.0390]\n"
     ]
    }
   ],
   "source": [
    "plt.hist(boot_diffs, bins=50, edgecolor='k')\n",
    "plt.axvline(ci_lower, color='red', linestyle='--')\n",
    "plt.axvline(ci_upper, color='red', linestyle='--')\n",
    "plt.title(\"Bootstrapped Differences in CTR\")\n",
    "plt.xlabel(\"Difference in CTR\")\n",
    "plt.ylabel(\"Frequency\")\n",
    "plt.show()\n",
    "\n",
    "print(f\"95% Confidence Interval: [{ci_lower:.4f}, {ci_upper:.4f}]\")\n"
   ]
  },
  {
   "cell_type": "code",
   "execution_count": null,
   "id": "d0b7e606",
   "metadata": {},
   "outputs": [
    {
     "name": "stdout",
     "output_type": "stream",
     "text": [
      "P(CTR > 10%): 0.000\n",
      "P(CTR < 8%): 1.000\n",
      "P(0.09 < CTR < 0.11): 0.000\n"
     ]
    }
   ],
   "source": [
    " # What's the probability that CTR is greater than 10%?\n",
    "# What's the probability that CTR is between 0.09 and 0.11?\n",
    "\n",
    "from scipy.stats import norm\n",
    "\n",
    "# Parameters from your test or bootstrapping\n",
    "mu = np.mean(boot_diffs)\n",
    "sigma = np.std(boot_diffs)\n",
    "\n",
    "# Probability CTR > 10%\n",
    "prob_gt_10 = 1 - norm.cdf(0.10, loc=mu, scale=sigma)\n",
    "\n",
    "# Probability CTR < 8%\n",
    "prob_lt_08 = norm.cdf(0.08, loc=mu, scale=sigma)\n",
    "\n",
    "# Probability CTR between 9% and 11%\n",
    "prob_between = norm.cdf(0.11, loc=mu, scale=sigma) - norm.cdf(0.09, loc=mu, scale=sigma)\n",
    "\n",
    "print(f\"P(CTR > 10%): {prob_gt_10:.3f}\")\n",
    "print(f\"P(CTR < 8%): {prob_lt_08:.3f}\")\n",
    "print(f\"P(0.09 < CTR < 0.11): {prob_between:.3f}\")\n"
   ]
  },
  {
   "cell_type": "code",
   "execution_count": null,
   "id": "1a6853bb",
   "metadata": {},
   "outputs": [],
   "source": []
  }
 ],
 "metadata": {
  "kernelspec": {
   "display_name": ".env",
   "language": "python",
   "name": "python3"
  },
  "language_info": {
   "codemirror_mode": {
    "name": "ipython",
    "version": 3
   },
   "file_extension": ".py",
   "mimetype": "text/x-python",
   "name": "python",
   "nbconvert_exporter": "python",
   "pygments_lexer": "ipython3",
   "version": "3.10.0"
  }
 },
 "nbformat": 4,
 "nbformat_minor": 5
}
